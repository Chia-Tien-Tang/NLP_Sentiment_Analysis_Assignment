{
 "cells": [
  {
   "cell_type": "code",
   "execution_count": 4,
   "id": "f5f35e81",
   "metadata": {},
   "outputs": [],
   "source": [
    "# data handling\n",
    "import datasets\n",
    "import numpy as np\n",
    "import pandas as pd\n",
    "import tokenizers\n",
    "\n",
    "# modeling\n",
    "import sklearn\n",
    "import torch\n",
    "import transformers"
   ]
  },
  {
   "cell_type": "code",
   "execution_count": 5,
   "id": "ac12c3cf",
   "metadata": {},
   "outputs": [
    {
     "name": "stdout",
     "output_type": "stream",
     "text": [
      "pytorch: 2.1.2 / allowed: 2.1.x\n",
      "transformers: 4.32.1 / allowed: 4.34.1\n",
      "tokenizers: 0.13.2 / allowed: 0.14.1\n",
      "datasets: 2.12.0 / allowed: 2.14.5 (just the huggingface library ‘datasets’, no labelled data)\n",
      "scikit-learn: 1.3.2 / allowed: 1.2.1\n",
      "numpy: 1.24.3 / allowed: 1.26.0\n",
      "pandas: 2.0.3 / allowed: 2.1.1\n"
     ]
    }
   ],
   "source": [
    "# check versions\n",
    "print(f\"pytorch: {torch.__version__} / allowed: 2.1.x\")\n",
    "print(f\"transformers: {transformers.__version__} / allowed: 4.34.1\")\n",
    "print(f\"tokenizers: {tokenizers.__version__} / allowed: 0.14.1\")\n",
    "print(f\"datasets: {datasets.__version__} / allowed: 2.14.5 (just the huggingface library ‘datasets’, no labelled data)\")\n",
    "print(f\"scikit-learn: {sklearn.__version__} / allowed: 1.2.1\")\n",
    "print(f\"numpy: {np.__version__} / allowed: 1.26.0\")\n",
    "print(f\"pandas: {pd.__version__} / allowed: 2.1.1\")"
   ]
  }
 ],
 "metadata": {
  "kernelspec": {
   "display_name": "Python 3 (ipykernel)",
   "language": "python",
   "name": "python3"
  },
  "language_info": {
   "codemirror_mode": {
    "name": "ipython",
    "version": 3
   },
   "file_extension": ".py",
   "mimetype": "text/x-python",
   "name": "python",
   "nbconvert_exporter": "python",
   "pygments_lexer": "ipython3",
   "version": "3.11.5"
  }
 },
 "nbformat": 4,
 "nbformat_minor": 5
}
